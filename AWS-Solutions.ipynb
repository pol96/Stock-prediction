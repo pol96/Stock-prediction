{
 "cells": [
  {
   "cell_type": "markdown",
   "metadata": {},
   "source": [
    "# Amazon Web Services EC2 - Installation of MongoDB"
   ]
  },
  {
   "cell_type": "markdown",
   "metadata": {},
   "source": [
    "[Official documentation of AWS Elastic Compute Cloud (EC2)](https://docs.aws.amazon.com/AWSEC2/latest/UserGuide/concepts.html)"
   ]
  },
  {
   "cell_type": "markdown",
   "metadata": {},
   "source": [
    "After having launched a EC2 instance and created a key-pair to securely connect from our local machine, the steps we followed for the installation of MongoDB are:"
   ]
  },
  {
   "cell_type": "markdown",
   "metadata": {},
   "source": [
    "* Connect to the EC2 instance through ssh (make sure security group allow inbound ssh connections)\n",
    "```shell\n",
    "ssh -i /PATH/KeyPairGiacomo.pem ec2-user@63.34.22.253\n",
    "```\n",
    "\n",
    "\n",
    "       __|  __|_  )\n",
    "       _|  (     /   Amazon Linux 2 AMI\n",
    "      ___|\\___|___|\n",
    "      \n",
    "* Allow yum package manager to install MongoDB by creating `/etc/yum.repos.d/mongodb-org-4.2.repo` file\n",
    "```shell\n",
    "sudo vi /etc/yum.repos.d/mongodb-org-4.2.repo\n",
    "```\n",
    "\n",
    "\n",
    "* Insert in the newly created file this code (vim command to save is `:wq` )\n",
    "```shell\n",
    "[mongodb-org-4.2]\n",
    "name=MongoDB Repository\n",
    "baseurl=https://repo.mongodb.org/yum/amazon/2/mongodb-org/4.2/x86_64/\n",
    "gpgcheck=1\n",
    "enabled=1\n",
    "gpgkey=https://www.mongodb.org/static/pgp/server-4.2.asc\n",
    "```\n",
    "\n",
    "* Install MongoDB\n",
    "```shell\n",
    "sudo yum install -y mongodb-org\n",
    "```\n",
    "\n",
    "\n",
    "* Start MongoDB\n",
    "```shell\n",
    "sudo systemctl start mongod\n",
    "```\n",
    "\n",
    "\n",
    "* Verify that MongoDB has started\n",
    "```shell\n",
    "sudo systemctl status mongod\n",
    "```\n",
    "\n",
    "\n",
    "* Stop MongoDB\n",
    "```shell\n",
    "sudo systemctl stop mongod\n",
    "```\n",
    "\n",
    "\n",
    "* Start Mongo Shell\n",
    "```shell\n",
    "mongo\n",
    "```"
   ]
  },
  {
   "cell_type": "markdown",
   "metadata": {},
   "source": [
    "### AWS CLI\n",
    "#### Installation"
   ]
  },
  {
   "cell_type": "markdown",
   "metadata": {},
   "source": [
    "* From terminal issue the following commands:\n",
    "```shell\n",
    "sudo pip install awscli\n",
    "```\n",
    "\n",
    "\n",
    "* Configure user\n",
    "```shell\n",
    "aws configure\n",
    "```\n",
    "\n",
    "\n",
    "```\n",
    "AWS Access Key ID [None]: YourKeyID\n",
    "AWS Secret Access Key [None]: YourSecretAccessKey\n",
    "Default region name [None]: eu-west-1\n",
    "Default output format [None]:\n",
    "```\n",
    "\n",
    "\n",
    "* Test if it is running correctly\n",
    "```shell\n",
    "aws s3 ls\n",
    "```"
   ]
  },
  {
   "cell_type": "markdown",
   "metadata": {},
   "source": [
    "## Spark\n",
    "### Installation\n",
    "#### MacOS"
   ]
  },
  {
   "cell_type": "markdown",
   "metadata": {},
   "source": [
    "* From terminal issue the following commands:\n",
    "```shell\n",
    "brew install scala\n",
    "brew install apache-spark\n",
    "```\n",
    "\n",
    "\n",
    "* Test if it is running correctly\n",
    "```shell\n",
    "spark-shell\n",
    "```\n",
    "\n",
    "\n",
    "```\n",
    "Welcome to\n",
    "      ____              __\n",
    "     / __/__  ___ _____/ /__\n",
    "    _\\ \\/ _ \\/ _ `/ __/  '_/\n",
    "   /___/ .__/\\_,_/_/ /_/\\_\\   version 2.4.4\n",
    "      /_/\n",
    "         \n",
    "Using Scala version 2.11.12 (Java HotSpot(TM) 64-Bit Server VM, Java 12.0.1)\n",
    "Type in expressions to have them evaluated.\n",
    "Type :help for more information.\n",
    "\n",
    "scala> val s=\"Hello! This is scala code!\"\n",
    "```\n",
    "\n",
    "* Install pyspark\n",
    "```shell\n",
    "pip install pyspark\n",
    "```\n",
    "\n",
    "* Test if it is running correctly\n",
    "```shell\n",
    "pyspark\n",
    "```\n",
    "\n",
    "```\n",
    "Welcome to\n",
    "      ____              __\n",
    "     / __/__  ___ _____/ /__\n",
    "    _\\ \\/ _ \\/ _ `/ __/  '_/\n",
    "   /__ / .__/\\_,_/_/ /_/\\_\\   version 2.4.4\n",
    "      /_/\n",
    "\n",
    "Using Python version 3.7.4 (default, Aug 13 2019 15:17:50)\n",
    "SparkSession available as 'spark'.\n",
    ">>> print(\"Hello! This is python code!\")\n",
    "Hello! This is python code!\n",
    ">>> \n",
    "```"
   ]
  },
  {
   "cell_type": "markdown",
   "metadata": {},
   "source": [
    "#### Amazon EMR cluster"
   ]
  },
  {
   "cell_type": "markdown",
   "metadata": {},
   "source": [
    "After having created an AWS EMR cluster, we can connect through ssh to the master node with the following command:\n",
    "```shell\n",
    "ssh hadoop@DNSHERE.compute.amazonaws.com -i /PATH/KeyPairGiacomo.pem\n",
    "```\n",
    "\n",
    "```\n",
    "       __|  __|_  )\n",
    "       _|  (     /   Amazon Linux AMI\n",
    "      ___|\\___|___|\n",
    "\n",
    "https://aws.amazon.com/amazon-linux-ami/2018.03-release-notes/\n",
    "6 package(s) needed for security, out of 17 available\n",
    "Run \"sudo yum update\" to apply all updates.\n",
    "                                                                    \n",
    "EEEEEEEEEEEEEEEEEEEE MMMMMMMM           MMMMMMMM RRRRRRRRRRRRRRR    \n",
    "E::::::::::::::::::E M:::::::M         M:::::::M R::::::::::::::R   \n",
    "EE:::::EEEEEEEEE:::E M::::::::M       M::::::::M R:::::RRRRRR:::::R \n",
    "  E::::E       EEEEE M:::::::::M     M:::::::::M RR::::R      R::::R\n",
    "  E::::E             M::::::M:::M   M:::M::::::M   R:::R      R::::R\n",
    "  E:::::EEEEEEEEEE   M:::::M M:::M M:::M M:::::M   R:::RRRRRR:::::R \n",
    "  E::::::::::::::E   M:::::M  M:::M:::M  M:::::M   R:::::::::::RR   \n",
    "  E:::::EEEEEEEEEE   M:::::M   M:::::M   M:::::M   R:::RRRRRR::::R  \n",
    "  E::::E             M:::::M    M:::M    M:::::M   R:::R      R::::R\n",
    "  E::::E       EEEEE M:::::M     MMM     M:::::M   R:::R      R::::R\n",
    "EE:::::EEEEEEEE::::E M:::::M             M:::::M   R:::R      R::::R\n",
    "E::::::::::::::::::E M:::::M             M:::::M RR::::R      R::::R\n",
    "EEEEEEEEEEEEEEEEEEEE MMMMMMM             MMMMMMM RRRRRRR      RRRRRR\n",
    "                                                                    \n",
    "[hadoop@ip-MYIP ~]\n",
    "```"
   ]
  }
 ],
 "metadata": {
  "kernelspec": {
   "display_name": "Python 3",
   "language": "python",
   "name": "python3"
  },
  "language_info": {
   "codemirror_mode": {
    "name": "ipython",
    "version": 3
   },
   "file_extension": ".py",
   "mimetype": "text/x-python",
   "name": "python",
   "nbconvert_exporter": "python",
   "pygments_lexer": "ipython3",
   "version": "3.7.4"
  }
 },
 "nbformat": 4,
 "nbformat_minor": 4
}
