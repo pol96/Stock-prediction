{
 "cells": [
  {
   "cell_type": "code",
   "execution_count": 1,
   "metadata": {},
   "outputs": [],
   "source": [
    "import findspark\n",
    "\n",
    "findspark.init()"
   ]
  },
  {
   "cell_type": "code",
   "execution_count": 155,
   "metadata": {},
   "outputs": [],
   "source": [
    "import pyspark\n",
    "\n",
    "from pyspark.sql import SparkSession\n",
    "from pyspark.sql.functions import to_date, udf, row_number\n",
    "from pyspark.sql.types import IntegerType, DoubleType\n",
    "\n",
    "spark = SparkSession.builder.getOrCreate()"
   ]
  },
  {
   "cell_type": "code",
   "execution_count": 165,
   "metadata": {},
   "outputs": [],
   "source": [
    "import warnings\n",
    "from warnings import catch_warnings\n",
    "from warnings import filterwarnings\n",
    "\n",
    "import pandas as pd\n",
    "from pandas import Series\n",
    "import datetime as dt\n",
    "from datetime import timedelta\n",
    "\n",
    "import math\n",
    "from math import sqrt\n",
    "import numpy as np\n",
    "\n",
    "from matplotlib import pyplot\n",
    "import matplotlib.pyplot as plt\n",
    "import matplotlib.dates as mdates\n",
    "import seaborn as sns\n",
    "\n",
    "from sklearn.metrics import mean_squared_error\n",
    "\n",
    "from statsmodels.graphics.tsaplots import plot_acf, plot_pacf\n",
    "from statsmodels.tsa.arima_model import ARIMA\n",
    "from statsmodels.tsa.statespace.sarimax import SARIMAX\n",
    "from statsmodels.tsa import stattools"
   ]
  },
  {
   "cell_type": "code",
   "execution_count": 170,
   "metadata": {},
   "outputs": [],
   "source": [
    "# Import Stock Price Data dataset\n",
    "\n",
    "filepathname = \"Data/TSLA_stockprice.csv\"\n",
    "\n",
    "stock_data = spark.read\\\n",
    "  .format('org.apache.spark.sql.execution.datasources.csv.CSVFileFormat')\\\n",
    "  .option('header', 'true')\\\n",
    "  .load(filepathname)"
   ]
  },
  {
   "cell_type": "code",
   "execution_count": 171,
   "metadata": {},
   "outputs": [
    {
     "name": "stdout",
     "output_type": "stream",
     "text": [
      "root\n",
      " |-- Date: string (nullable = true)\n",
      " |-- Open: string (nullable = true)\n",
      " |-- High: string (nullable = true)\n",
      " |-- Low: string (nullable = true)\n",
      " |-- Close: string (nullable = true)\n",
      " |-- Adj Close: string (nullable = true)\n",
      " |-- Volume: string (nullable = true)\n",
      "\n"
     ]
    }
   ],
   "source": [
    "stock_data.printSchema()"
   ]
  },
  {
   "cell_type": "code",
   "execution_count": 172,
   "metadata": {},
   "outputs": [
    {
     "name": "stdout",
     "output_type": "stream",
     "text": [
      "+-------+----------+-----------------+------------------+------------------+------------------+------------------+----------------+\n",
      "|summary|      Date|             Open|              High|               Low|             Close|         Adj Close|          Volume|\n",
      "+-------+----------+-----------------+------------------+------------------+------------------+------------------+----------------+\n",
      "|  count|      1259|             1259|              1259|              1259|              1259|              1259|            1259|\n",
      "|   mean|      null|276.2635346727561|281.13291495472595|271.45169172676793|276.52841173629815|276.52841173629815|7006977.60127085|\n",
      "| stddev|      null|71.62431039849459| 74.67138746842221| 69.78160711970395| 72.41145695566233| 72.41145695566233|5147194.43771005|\n",
      "|    min|2015-02-09|       142.320007|        154.970001|        141.050003|        143.669998|        143.669998|        10015400|\n",
      "|    max|2020-02-07|       882.960022|        968.989990|        833.880005|        887.059998|        887.059998|         9986700|\n",
      "+-------+----------+-----------------+------------------+------------------+------------------+------------------+----------------+\n",
      "\n"
     ]
    }
   ],
   "source": [
    "stock_data.describe().show()"
   ]
  },
  {
   "cell_type": "code",
   "execution_count": 173,
   "metadata": {},
   "outputs": [
    {
     "name": "stdout",
     "output_type": "stream",
     "text": [
      "+----------+----------+----------+----------+----------+----------+--------+\n",
      "|      Date|      Open|      High|       Low|     Close| Adj Close|  Volume|\n",
      "+----------+----------+----------+----------+----------+----------+--------+\n",
      "|2015-02-09|215.380005|217.929993|211.990005|217.479996|217.479996| 3472400|\n",
      "|2015-02-10|217.550003|220.500000|215.000000|216.289993|216.289993| 5390500|\n",
      "|2015-02-11|212.210007|214.740005|207.279999|212.800003|212.800003| 9769100|\n",
      "|2015-02-12|193.570007|203.089996|193.279999|202.880005|202.880005|15649600|\n",
      "|2015-02-13|202.899994|205.990005|200.910004|203.770004|203.770004| 6191000|\n",
      "+----------+----------+----------+----------+----------+----------+--------+\n",
      "only showing top 5 rows\n",
      "\n"
     ]
    }
   ],
   "source": [
    "stock_data.cache()\n",
    "stock_data.show(5)"
   ]
  },
  {
   "cell_type": "code",
   "execution_count": 174,
   "metadata": {},
   "outputs": [
    {
     "name": "stdout",
     "output_type": "stream",
     "text": [
      "+----------+----------+\n",
      "|      Date| Adj Close|\n",
      "+----------+----------+\n",
      "|2015-02-09|217.479996|\n",
      "|2015-02-10|216.289993|\n",
      "|2015-02-11|212.800003|\n",
      "|2015-02-12|202.880005|\n",
      "|2015-02-13|203.770004|\n",
      "+----------+----------+\n",
      "only showing top 5 rows\n",
      "\n"
     ]
    }
   ],
   "source": [
    "# Consider only the Adjusted Close\n",
    "\n",
    "stock_data = stock_data.select('Date','Adj Close')\n",
    "\n",
    "stock_data.cache()\n",
    "stock_data.show(5)"
   ]
  },
  {
   "cell_type": "code",
   "execution_count": 79,
   "metadata": {},
   "outputs": [
    {
     "name": "stdout",
     "output_type": "stream",
     "text": [
      "root\n",
      " |-- Date: date (nullable = true)\n",
      " |-- Adj Close: double (nullable = true)\n",
      "\n",
      "+----------+----------+\n",
      "|      Date| Adj Close|\n",
      "+----------+----------+\n",
      "|2019-06-03|178.970001|\n",
      "|2019-06-04|193.600006|\n",
      "|2019-06-05|196.589996|\n",
      "|2019-06-06|205.949997|\n",
      "|2019-06-07|     204.5|\n",
      "+----------+----------+\n",
      "only showing top 5 rows\n",
      "\n"
     ]
    }
   ],
   "source": [
    "# Filtering the DataFrame by Date: consider only the month of June\n",
    "\n",
    "stock_filtered = stock_data.\\\n",
    "    filter(stock_data.Date.like(\"2019-06%\")).\\\n",
    "    withColumn(\"Date\", to_date(stock_data.Date)).\\\n",
    "    withColumn(\"Adj Close\", stock_data[\"Adj Close\"].cast(DoubleType()))\n",
    "\n",
    "stock_filtered.cache()\n",
    "stock_filtered.printSchema()\n",
    "stock_filtered.show(5)"
   ]
  },
  {
   "cell_type": "code",
   "execution_count": 36,
   "metadata": {},
   "outputs": [],
   "source": [
    "# Import Tweets Sentiment Analysis dataset\n",
    "\n",
    "filepathname = \"Data/TSLA_sentiment.csv\"\n",
    "\n",
    "sent_data = spark.read\\\n",
    "  .format('org.apache.spark.sql.execution.datasources.csv.CSVFileFormat')\\\n",
    "  .option('header', 'true')\\\n",
    "  .load(filepathname)"
   ]
  },
  {
   "cell_type": "code",
   "execution_count": 37,
   "metadata": {},
   "outputs": [
    {
     "name": "stdout",
     "output_type": "stream",
     "text": [
      "root\n",
      " |-- _c0: string (nullable = true)\n",
      " |-- _id: string (nullable = true)\n",
      " |-- user.screen_name: string (nullable = true)\n",
      " |-- created_at: string (nullable = true)\n",
      " |-- timestamp_ms: string (nullable = true)\n",
      " |-- text: string (nullable = true)\n",
      " |-- Polarity: string (nullable = true)\n",
      " |-- Subjectivity: string (nullable = true)\n",
      "\n"
     ]
    }
   ],
   "source": [
    "sent_data.printSchema()"
   ]
  },
  {
   "cell_type": "code",
   "execution_count": 38,
   "metadata": {
    "scrolled": true
   },
   "outputs": [
    {
     "name": "stdout",
     "output_type": "stream",
     "text": [
      "+-----+--------------------+----------------+--------------------+--------------------+--------------------+--------------------+-------------------+\n",
      "|  _c0|                 _id|user.screen_name|          created_at|        timestamp_ms|                text|            Polarity|       Subjectivity|\n",
      "+-----+--------------------+----------------+--------------------+--------------------+--------------------+--------------------+-------------------+\n",
      "|10834|ObjectId(5e411350...| TheDirtyBoogie1|Sun Jun 02 06:56:...|2019-06-02 06:56:...|@teslataxisea @Te...|                -0.5|                0.9|\n",
      "|14825|ObjectId(5e411356...|       jwoods_57|Sun Jun 02 06:33:...|2019-06-02 06:33:...|@TeslaOpinion #Te...| 0.15416666666666667| 0.6666666666666666|\n",
      "|27402|ObjectId(5e41136b...|   MarikoSanoUSA|Sun Jun 02 07:19:...|2019-06-02 07:19:...|RT @evannex_com: ...|-0.06666666666666667|0.45666666666666667|\n",
      "|34273|ObjectId(5e411377...|    paradis_yves|Sun Jun 02 07:33:...|2019-06-02 07:33:...|RT @cleantechnica...|                 0.0|                0.0|\n",
      "|38174|ObjectId(5e41137d...|        aschbeck|Sun Jun 02 07:40:...|2019-06-02 07:40:...|RT @vivvchy: Tesl...|                 0.0|                0.0|\n",
      "+-----+--------------------+----------------+--------------------+--------------------+--------------------+--------------------+-------------------+\n",
      "only showing top 5 rows\n",
      "\n"
     ]
    }
   ],
   "source": [
    "sent_data.cache()\n",
    "sent_data.show(5)"
   ]
  },
  {
   "cell_type": "code",
   "execution_count": 39,
   "metadata": {},
   "outputs": [
    {
     "name": "stdout",
     "output_type": "stream",
     "text": [
      "+--------------------+--------------------+\n",
      "|        timestamp_ms|            Polarity|\n",
      "+--------------------+--------------------+\n",
      "|2019-06-02 06:56:...|                -0.5|\n",
      "|2019-06-02 06:33:...| 0.15416666666666667|\n",
      "|2019-06-02 07:19:...|-0.06666666666666667|\n",
      "|2019-06-02 07:33:...|                 0.0|\n",
      "|2019-06-02 07:40:...|                 0.0|\n",
      "+--------------------+--------------------+\n",
      "only showing top 5 rows\n",
      "\n"
     ]
    }
   ],
   "source": [
    "sent_data = sent_data.\\\n",
    "    select('timestamp_ms','Polarity')\n",
    "\n",
    "sent_data.cache()\n",
    "sent_data.show(5)"
   ]
  },
  {
   "cell_type": "code",
   "execution_count": 52,
   "metadata": {},
   "outputs": [
    {
     "name": "stdout",
     "output_type": "stream",
     "text": [
      "+----------+--------------------+\n",
      "|      Date|            Polarity|\n",
      "+----------+--------------------+\n",
      "|2019-06-02|                -0.5|\n",
      "|2019-06-02| 0.15416666666666667|\n",
      "|2019-06-02|-0.06666666666666667|\n",
      "|2019-06-02|                 0.0|\n",
      "|2019-06-02|                 0.0|\n",
      "+----------+--------------------+\n",
      "only showing top 5 rows\n",
      "\n",
      "root\n",
      " |-- Date: date (nullable = true)\n",
      " |-- Polarity: double (nullable = true)\n",
      "\n"
     ]
    }
   ],
   "source": [
    "# Filtering the DataFrame by Date: consider only the month of June\n",
    "\n",
    "sent_filtered = sent_data.filter(sent_data.timestamp_ms.like(\"2019-06%\")).\\\n",
    "    withColumn(\"Date\", to_date(sent_data.timestamp_ms)).\\\n",
    "    withColumn(\"Polarity\", sent_data.Polarity.cast(DoubleType())).\\\n",
    "    select('Date','Polarity')\n",
    "    \n",
    "\n",
    "sent_filtered.cache()\n",
    "sent_filtered.show(5)\n",
    "sent_filtered.printSchema()"
   ]
  },
  {
   "cell_type": "code",
   "execution_count": 74,
   "metadata": {},
   "outputs": [
    {
     "name": "stdout",
     "output_type": "stream",
     "text": [
      "+----------+------+--------------------+------------------+\n",
      "|      Date|Volume|            Polarity|      WeightedSent|\n",
      "+----------+------+--------------------+------------------+\n",
      "|2019-06-02|   167|  0.0663165936167637|11.074871133999538|\n",
      "|2019-06-03|   245| 0.09041759630553936|22.152311094857144|\n",
      "|2019-06-04|   276|  0.1099959405473699|30.358879591074093|\n",
      "|2019-06-05|   170| 0.06879164109108139|11.694578985483837|\n",
      "|2019-06-06|   212| 0.12650453889211513|26.818962245128407|\n",
      "|2019-06-07|   199| 0.10128098418987212| 20.15491585378455|\n",
      "|2019-06-08|   138| 0.09999366134389716|13.799125265457809|\n",
      "|2019-06-09|   128| 0.07020100789233441| 8.985729010218805|\n",
      "|2019-06-10|   179| 0.11944648895125595|21.380921522274814|\n",
      "|2019-06-11|   233| 0.11200009166607533|26.096021358195554|\n",
      "|2019-06-12|   246|  0.1328141960277377| 32.67229222282347|\n",
      "|2019-06-13|   252| 0.00803225074351835|2.0241271873666244|\n",
      "|2019-06-14|   250| 0.03979616924811648|  9.94904231202912|\n",
      "|2019-06-15|   187| 0.08479842972030473|15.857306357696984|\n",
      "|2019-06-16|   306|  0.0950603587962963|29.088469791666668|\n",
      "|2019-06-17|   262|0.030825366007526833|  8.07624589397203|\n",
      "|2019-06-18|   405| 0.04874040487658045| 19.73986397501508|\n",
      "|2019-06-19|   371| 0.04969191919191924|18.435702020202037|\n",
      "|2019-06-20|    71| 0.05808410986377088| 4.123971800327733|\n",
      "|2019-06-21|   149| 0.07217743638475346|10.754438021328266|\n",
      "+----------+------+--------------------+------------------+\n",
      "only showing top 20 rows\n",
      "\n"
     ]
    }
   ],
   "source": [
    "# Feature Engineering - Sentiment Data\n",
    "\n",
    "def prod(x,y):\n",
    "    return x*y\n",
    "prod_udf = udf(prod, DoubleType())\n",
    "\n",
    "sent_eng = sent_filtered.\\\n",
    "        groupby(\"Date\").count().\\\n",
    "        withColumnRenamed(\"count\",\"Volume\").\\\n",
    "        join(sent_filtered.\n",
    "            groupby(\"Date\").avg(\"Polarity\").\\\n",
    "            withColumnRenamed(\"avg(Polarity)\",\"Polarity\"), \"Date\").\\\n",
    "        select(\"Date\", \"Volume\", \"Polarity\", prod_udf(\"Volume\", \"Polarity\")).\\\n",
    "        withColumnRenamed(\"prod(Volume, Polarity)\",\"WeightedSent\").\\\n",
    "        sort(\"Date\")\n",
    "    \n",
    "sent_eng.cache()\n",
    "sent_eng.show()"
   ]
  },
  {
   "cell_type": "code",
   "execution_count": 167,
   "metadata": {},
   "outputs": [],
   "source": [
    "# JOIN THE DATAFRAMES\n",
    "\n",
    "merged_dataframe = stock_filtered.\\\n",
    "    join(sent_eng, on = \"Date\", how = \"outer\").\\\n",
    "    sort(\"Date\")"
   ]
  },
  {
   "cell_type": "code",
   "execution_count": 175,
   "metadata": {},
   "outputs": [
    {
     "data": {
      "text/html": [
       "<div>\n",
       "<style scoped>\n",
       "    .dataframe tbody tr th:only-of-type {\n",
       "        vertical-align: middle;\n",
       "    }\n",
       "\n",
       "    .dataframe tbody tr th {\n",
       "        vertical-align: top;\n",
       "    }\n",
       "\n",
       "    .dataframe thead th {\n",
       "        text-align: right;\n",
       "    }\n",
       "</style>\n",
       "<table border=\"1\" class=\"dataframe\">\n",
       "  <thead>\n",
       "    <tr style=\"text-align: right;\">\n",
       "      <th></th>\n",
       "      <th>Date</th>\n",
       "      <th>Adj Close</th>\n",
       "      <th>Volume</th>\n",
       "      <th>Polarity</th>\n",
       "      <th>WeightedSent</th>\n",
       "    </tr>\n",
       "  </thead>\n",
       "  <tbody>\n",
       "    <tr>\n",
       "      <td>0</td>\n",
       "      <td>2019-06-02</td>\n",
       "      <td>178.970001</td>\n",
       "      <td>167</td>\n",
       "      <td>0.066317</td>\n",
       "      <td>11.074871</td>\n",
       "    </tr>\n",
       "    <tr>\n",
       "      <td>1</td>\n",
       "      <td>2019-06-03</td>\n",
       "      <td>178.970001</td>\n",
       "      <td>245</td>\n",
       "      <td>0.090418</td>\n",
       "      <td>22.152311</td>\n",
       "    </tr>\n",
       "    <tr>\n",
       "      <td>2</td>\n",
       "      <td>2019-06-04</td>\n",
       "      <td>193.600006</td>\n",
       "      <td>276</td>\n",
       "      <td>0.109996</td>\n",
       "      <td>30.358880</td>\n",
       "    </tr>\n",
       "    <tr>\n",
       "      <td>3</td>\n",
       "      <td>2019-06-05</td>\n",
       "      <td>196.589996</td>\n",
       "      <td>170</td>\n",
       "      <td>0.068792</td>\n",
       "      <td>11.694579</td>\n",
       "    </tr>\n",
       "    <tr>\n",
       "      <td>4</td>\n",
       "      <td>2019-06-06</td>\n",
       "      <td>205.949997</td>\n",
       "      <td>212</td>\n",
       "      <td>0.126505</td>\n",
       "      <td>26.818962</td>\n",
       "    </tr>\n",
       "  </tbody>\n",
       "</table>\n",
       "</div>"
      ],
      "text/plain": [
       "         Date   Adj Close  Volume  Polarity  WeightedSent\n",
       "0  2019-06-02  178.970001     167  0.066317     11.074871\n",
       "1  2019-06-03  178.970001     245  0.090418     22.152311\n",
       "2  2019-06-04  193.600006     276  0.109996     30.358880\n",
       "3  2019-06-05  196.589996     170  0.068792     11.694579\n",
       "4  2019-06-06  205.949997     212  0.126505     26.818962"
      ]
     },
     "execution_count": 175,
     "metadata": {},
     "output_type": "execute_result"
    }
   ],
   "source": [
    "# CONVERT DATAFRAME INTO PANDAS FRAMEWORK\n",
    "\n",
    "stock_data = stock_data.select(\"*\").toPandas()\n",
    "merged_dataframe = merged_dataframe.select(\"*\").toPandas()\n",
    "\n",
    "# Substitute the missing values in the weekend\n",
    "for t in range(len(merged_dataframe)):\n",
    "    if np.isnan(merged_dataframe['Adj Close'][t]):\n",
    "        if t>0:\n",
    "            merged_dataframe['Adj Close'][t] = merged_dataframe['Adj Close'][t-1]\n",
    "        else:\n",
    "            merged_dataframe['Adj Close'][t] = merged_dataframe['Adj Close'][t+1]\n",
    "\n",
    "merged_dataframe.head()"
   ]
  },
  {
   "cell_type": "markdown",
   "metadata": {},
   "source": [
    "# Time Series Visualization"
   ]
  },
  {
   "cell_type": "code",
   "execution_count": 122,
   "metadata": {},
   "outputs": [
    {
     "data": {
      "image/png": "[encoded data removed]",
      "text/plain": [
       "<Figure size 576x288 with 1 Axes>"
      ]
     },
     "metadata": {},
     "output_type": "display_data"
    }
   ],
   "source": [
    "%matplotlib inline\n",
    "sns.set_style(\"darkgrid\")\n",
    "\n",
    "months = mdates.MonthLocator()\n",
    "months_format = mdates.DateFormatter('%m')  \n",
    "years = mdates.YearLocator()\n",
    "years_format = mdates.DateFormatter('%Y')  \n",
    "\n",
    "fig, ax = plt.subplots(figsize=(8, 4))\n",
    "\n",
    "ax.plot('Date', 'Adj Close', data=stock_data, linestyle='-')\n",
    "\n",
    "ax.xaxis.set_major_locator(years)\n",
    "ax.xaxis.set_major_formatter(years_format)\n",
    "\n",
    "\n",
    "datemin = stock_data['Date'].iloc[0]\n",
    "datemax = stock_data['Date'].iloc[-1]\n",
    "ax.set_xlim(datemin+dt.timedelta(days=-1), datemax+dt.timedelta(days=1))\n",
    "ax.set_ylim(0)\n",
    "\n",
    "ax.format_xdata = mdates.DateFormatter('%m')\n",
    "\n",
    "fig.autofmt_xdate()\n",
    "fig.suptitle(\"TSLA Historical Stock Price\", fontweight='bold')\n",
    "ax.set_xlabel('Year', fontweight='bold')\n",
    "ax.set_ylabel('Adjusted Close $', fontweight='bold')\n",
    "\n",
    "\n",
    "plt.savefig('TSLAwholeseries.png')\n",
    "plt.show()"
   ]
  },
  {
   "cell_type": "code",
   "execution_count": 121,
   "metadata": {},
   "outputs": [
    {
     "data": {
      "image/png": "[encoded data removed]",
      "text/plain": [
       "<Figure size 576x288 with 1 Axes>"
      ]
     },
     "metadata": {},
     "output_type": "display_data"
    }
   ],
   "source": [
    "%matplotlib inline\n",
    "sns.set_style(\"darkgrid\")\n",
    "\n",
    "days = mdates.DayLocator()\n",
    "days_format = mdates.DateFormatter('%d')\n",
    "months = mdates.MonthLocator()\n",
    "months_format = mdates.DateFormatter('%m')  \n",
    "\n",
    "fig, ax = plt.subplots(figsize=(8, 4))\n",
    "\n",
    "ax.plot('Date', 'Adj Close', data=merged_dataframe, linestyle='-', marker='o')\n",
    "\n",
    "ax.xaxis.set_major_locator(days)\n",
    "ax.xaxis.set_major_formatter(days_format)\n",
    "\n",
    "\n",
    "datemin = merged_dataframe['Date'].iloc[0]\n",
    "datemax = merged_dataframe['Date'].iloc[-1]\n",
    "ax.set_xlim(datemin+dt.timedelta(days=-1), datemax+dt.timedelta(days=1))\n",
    "\n",
    "\n",
    "\n",
    "ax.format_xdata = mdates.DateFormatter('%d-%m')\n",
    "\n",
    "fig.autofmt_xdate()\n",
    "fig.suptitle(\"TSLA Historical Stock Price June 2019\", fontweight='bold')\n",
    "ax.set_xlabel('Day', fontweight='bold')\n",
    "ax.set_ylabel('Adjusted Close $', fontweight='bold')\n",
    "\n",
    "\n",
    "plt.savefig('TSLAjune.png')\n",
    "plt.show()"
   ]
  },
  {
   "cell_type": "code",
   "execution_count": 8,
   "metadata": {},
   "outputs": [],
   "source": [
    "# Set the proportion of data for the training\n",
    "train_size_prop = 0.66"
   ]
  },
  {
   "cell_type": "code",
   "execution_count": 101,
   "metadata": {},
   "outputs": [
    {
     "data": {
      "image/png": "[encoded data removed]",
      "text/plain": [
       "<Figure size 576x288 with 1 Axes>"
      ]
     },
     "metadata": {},
     "output_type": "display_data"
    }
   ],
   "source": [
    "# TRAINSPLIT COLORS\n",
    "\n",
    "%matplotlib inline\n",
    "sns.set_style(\"darkgrid\")\n",
    "\n",
    "days = mdates.DayLocator()\n",
    "days_format = mdates.DateFormatter('%d')\n",
    "months = mdates.MonthLocator()\n",
    "months_format = mdates.DateFormatter('%m')  \n",
    "\n",
    "fig, ax = plt.subplots(figsize=(8, 4))\n",
    "\n",
    "ax.plot('Date', 'Adj Close', data=merged_dataframe, linestyle='-', marker='o')\n",
    "ax.plot('Date', 'Adj Close', data=merged_dataframe[int(train_size_prop*len(merged_dataframe)):]\\\n",
    "        , linestyle='-', marker='o',color='r')\n",
    "ax.legend(['Train','Test'])\n",
    "\n",
    "ax.xaxis.set_major_locator(days)\n",
    "ax.xaxis.set_major_formatter(days_format)\n",
    "\n",
    "\n",
    "datemin = merged_dataframe['Date'].iloc[0]\n",
    "datemax = merged_dataframe['Date'].iloc[-1]\n",
    "ax.set_xlim(datemin+dt.timedelta(days=-1), datemax+dt.timedelta(days=1))\n",
    "\n",
    "\n",
    "\n",
    "ax.format_xdata = mdates.DateFormatter('%d-%m')\n",
    "\n",
    "fig.autofmt_xdate()\n",
    "fig.suptitle(\"TSLA Historical Stock Price June 2019\", fontweight='bold')\n",
    "ax.set_xlabel('Day', fontweight='bold')\n",
    "ax.set_ylabel('Adjusted Close $', fontweight='bold')\n",
    "\n",
    "\n",
    "plt.savefig('TSLAtraintest.png')\n",
    "plt.show()\n"
   ]
  },
  {
   "cell_type": "markdown",
   "metadata": {},
   "source": [
    "# Function definitions"
   ]
  },
  {
   "cell_type": "code",
   "execution_count": 15,
   "metadata": {},
   "outputs": [],
   "source": [
    "# root mean squared error or rmse\n",
    "def measure_rmse(actual, predicted):\n",
    "    return sqrt(mean_squared_error(actual, predicted))\n",
    " \n",
    "# split a univariate dataset into train/test sets\n",
    "def train_test_split(X, train_size_prop):\n",
    "    train_size = int(len(X) * train_size_prop)\n",
    "    train, test = X[0:train_size], X[train_size:]\n",
    "    return train, test\n",
    "\n",
    "def mean_absolute_percentage_error(y_true, y_pred): \n",
    "    y_true, y_pred = np.array(y_true), np.array(y_pred)\n",
    "    return np.mean(np.abs((y_true - y_pred) / y_true)) * 100\n",
    "\n",
    "#################################################################\n",
    "\n",
    "def naive_model(X):\n",
    "    # split dataset\n",
    "    train, test = train_test_split(X, train_size_prop)\n",
    "\n",
    "    # seed history with training dataset\n",
    "    history = [x for x in train]\n",
    "    \n",
    "    # step over each time-step in the test set\n",
    "    predictions = list()\n",
    "    for t in range(len(test)):\n",
    "        #  make forecast for history\n",
    "        yhat = history[-1]\n",
    "\n",
    "        # store forecast in list of predictions\n",
    "        predictions.append(yhat)\n",
    "        # add actual observation to history for the next loop\n",
    "        history.append(test[t])\n",
    "        \n",
    "    # estimate prediction error\n",
    "    mse = mean_squared_error(test, predictions)\n",
    "    mape = mean_absolute_percentage_error(test, predictions)\n",
    "    return predictions, mse, mape\n",
    "\n",
    "#################################################################\n",
    "\n",
    "# evaluate an ARIMA model for a given order (p,d,q)\n",
    "# Put the \"I\" part only if there's a trend and in order to make the time series stationary\n",
    "def arima_model(X, train_size_prop, cfg):\n",
    "    # data type conversion to float32\n",
    "    X = X.astype('float32')\n",
    "    # split dataset\n",
    "    train, test = train_test_split(X, train_size_prop)\n",
    "\n",
    "    # seed history with training dataset\n",
    "    history = [x for x in train]\n",
    "    \n",
    "    # step over each time-step in the test set\n",
    "    predictions = list()\n",
    "    for t in range(len(test)):\n",
    "        # fit model and make forecast for history\n",
    "        model = ARIMA(history, order=cfg)\n",
    "        model_fit = model.fit(disp=0)\n",
    "        yhat = model_fit.forecast()[0]\n",
    "\n",
    "        # store forecast in list of predictions\n",
    "        predictions.append(yhat)\n",
    "        # add actual observation to history for the next loop\n",
    "        history.append(test[t])\n",
    "    \n",
    "    # estimate prediction error\n",
    "    mse = mean_squared_error(test, predictions)\n",
    "    mape = mean_absolute_percentage_error(test, predictions)\n",
    "    return predictions, mse, mape\n",
    "\n",
    "# evaluate combinations of p, d and q values for an ARIMA model\n",
    "def grid_search_arima(dataset, train_size_prop, p_values, d_values, q_values):\n",
    "    # data type conversion to float32\n",
    "    dataset = dataset.astype('float32')\n",
    "    \n",
    "    # Initialize variables\n",
    "    best_score, best_cfg = float(\"inf\"), None\n",
    "    for p in p_values:\n",
    "        for d in d_values:\n",
    "            for q in q_values:\n",
    "                cfg = (p,d,q)\n",
    "                try:\n",
    "                    # never show warnings when grid searching, too noisy\n",
    "                    with catch_warnings():\n",
    "                        filterwarnings(\"ignore\")\n",
    "                        pred, mse, mape = arima_model(dataset, train_size_prop, cfg)\n",
    "                    \n",
    "                    if mse < best_score:\n",
    "                        best_score, best_cfg = mse, cfg\n",
    "                    \n",
    "                except:\n",
    "                    continue\n",
    "    print('Best MODEL[%s] MSE=%.3f' % (str(best_cfg), best_score))\n",
    "    return best_cfg, best_score\n"
   ]
  },
  {
   "cell_type": "code",
   "execution_count": 16,
   "metadata": {},
   "outputs": [],
   "source": [
    "def sarima_model(X, exog_input, train_size_prop, cfg):\n",
    "    # unpack cfg\n",
    "    order, sorder, trend = cfg\n",
    "    # data type conversion to float32\n",
    "    X = X.astype('float32')\n",
    "    # split dataset\n",
    "    train, test = train_test_split(X, train_size_prop)\n",
    "    \n",
    "    # seed history with training dataset\n",
    "    history = [x for x in train]\n",
    "    # see history also for the exogenous inputs\n",
    "    if len(exog_input)!=0:\n",
    "        train_ei, test_ei = train_test_split(exog_input, train_size_prop)\n",
    "        history_ei =  [x for x in train_ei]\n",
    "    else:\n",
    "        history_ei = []\n",
    "        \n",
    "    # step over each time-step in the test set\n",
    "    predictions = list()\n",
    "    for t in range(len(test)):\n",
    "        # define model\n",
    "        if len(exog_input)!=0:            \n",
    "            model = SARIMAX(history, order=order, seasonal_order=sorder, trend=trend, exog=history_ei, enforce_stationarity=False, enforce_invertibility=False)\n",
    "        else:\n",
    "            model = SARIMAX(history, order=order, seasonal_order=sorder, trend=trend, enforce_stationarity=False, enforce_invertibility=False)\n",
    "        # fit model\n",
    "        model_fit = model.fit(disp=False)\n",
    "        # make one step forecast\n",
    "        if len(exog_input)!=0:\n",
    "            yhat = model_fit.predict(start=len(history), end=+len(history)+len(test)-1, \\\n",
    "                                 exog = np.array(test_ei).reshape(-1, 1))[0]\n",
    "        else:\n",
    "            yhat = model_fit.predict(len(history), len(history))[0]\n",
    "        \n",
    "        # store forecast in list of predictions\n",
    "        predictions.append(yhat)\n",
    "        # add actual observation to history for the next loop\n",
    "        history.append(test[t])\n",
    "        \n",
    "        if len(exog_input)!=0:\n",
    "            history_ei.append(test_ei[t])\n",
    "        \n",
    "    # estimate prediction error\n",
    "    mse = mean_squared_error(test, predictions)\n",
    "    mape = mean_absolute_percentage_error(test, predictions)\n",
    "    return predictions, mse, mape\n",
    " \n",
    "# grid search configs\n",
    "def grid_search_sarima(dataset, exog_input, train_size_prop, p_params, d_params, q_params, t_params, P_params, D_params, Q_params, m_params):\n",
    "    # data type conversion to float32\n",
    "    dataset = dataset.astype('float32')\n",
    "    \n",
    "    # Initialize variables\n",
    "    best_score, best_cfg = float(\"inf\"), None\n",
    "    for p in p_params:\n",
    "        for d in d_params:\n",
    "            for q in q_params:\n",
    "                for t in t_params:\n",
    "                    for P in P_params:\n",
    "                        for D in D_params:\n",
    "                            for Q in Q_params:\n",
    "                                for m in m_params:\n",
    "                                    cfg = [(p,d,q), (P,D,Q,m), (t)]\n",
    "    \n",
    "                                    try:\n",
    "                                        # never show warnings when grid searching, too noisy\n",
    "                                        with catch_warnings():\n",
    "                                            filterwarnings(\"ignore\")\n",
    "                                            pred, mse, mape = sarima_model(dataset, exog_input, train_size_prop, cfg)\n",
    "                                \n",
    "                                        if mse < best_score:\n",
    "                                            best_score, best_cfg = mse, cfg\n",
    "                                            \n",
    "                                    except:\n",
    "                                        continue\n",
    "    print('Best MODEL[%s] MSE=%.3f' % (str(best_cfg), best_score))\n",
    "    return best_cfg, best_score"
   ]
  },
  {
   "cell_type": "markdown",
   "metadata": {},
   "source": [
    "# Naive Model (Adj Close)"
   ]
  },
  {
   "cell_type": "code",
   "execution_count": 27,
   "metadata": {},
   "outputs": [
    {
     "name": "stdout",
     "output_type": "stream",
     "text": [
      "Test MSE: 11.855\n",
      "Test MAPE: 1.254\n"
     ]
    }
   ],
   "source": [
    "X = merged_dataframe['Adj Close'].values\n",
    "\n",
    "pred_naive, mse_naive, mape_naive = naive_model(X)\n",
    "print('Test MSE: %.3f' % mse_naive)\n",
    "print('Test MAPE: %.3f' % mape_naive)"
   ]
  },
  {
   "cell_type": "code",
   "execution_count": 120,
   "metadata": {
    "scrolled": true
   },
   "outputs": [
    {
     "data": {
      "image/png": "[encoded data removed]",
      "text/plain": [
       "<Figure size 576x288 with 1 Axes>"
      ]
     },
     "metadata": {},
     "output_type": "display_data"
    }
   ],
   "source": [
    "X = merged_dataframe['Adj Close'].values\n",
    "train, test = train_test_split(X,train_size_prop)\n",
    "\n",
    "%matplotlib inline\n",
    "sns.set_style(\"darkgrid\")\n",
    "\n",
    "days = mdates.DayLocator()\n",
    "days_format = mdates.DateFormatter('%d')\n",
    "months = mdates.MonthLocator()\n",
    "months_format = mdates.DateFormatter('%m')  \n",
    "\n",
    "fig, ax = plt.subplots(figsize=(8, 4))\n",
    "\n",
    "ax.plot('Date', 'Adj Close', data=merged_dataframe, linestyle='-', marker='o', color='grey')\n",
    "ax.plot(merged_dataframe['Date'], [None for x in train] + [x for x in pred_naive], linestyle='-', marker='v')\n",
    "ax.legend(['Actual','Prediction'])\n",
    "\n",
    "ax.xaxis.set_major_locator(days)\n",
    "ax.xaxis.set_major_formatter(days_format)\n",
    "\n",
    "\n",
    "datemin = merged_dataframe['Date'].iloc[0]\n",
    "datemax = merged_dataframe['Date'].iloc[-1]\n",
    "ax.set_xlim(datemin+dt.timedelta(days=-1), datemax+dt.timedelta(days=1))\n",
    "\n",
    "\n",
    "\n",
    "ax.format_xdata = mdates.DateFormatter('%d-%m')\n",
    "\n",
    "fig.autofmt_xdate()\n",
    "fig.suptitle(\"Naive Model - TSLA June 2019\", fontweight='bold')\n",
    "ax.set_xlabel('Day', fontweight='bold')\n",
    "ax.set_ylabel('Adjusted Close $', fontweight='bold')\n",
    "\n",
    "\n",
    "\n",
    "plt.savefig('TSLAnaive.png')\n",
    "plt.show()\n"
   ]
  },
  {
   "cell_type": "markdown",
   "metadata": {},
   "source": [
    "# ARIMA Model (Adj Close)"
   ]
  },
  {
   "cell_type": "code",
   "execution_count": 31,
   "metadata": {},
   "outputs": [
    {
     "name": "stdout",
     "output_type": "stream",
     "text": [
      "Best MODEL[(1, 0, 0)] MSE=11.636\n"
     ]
    }
   ],
   "source": [
    "X = merged_dataframe['Adj Close'].values\n",
    "\n",
    "p_values = [0, 1, 2]\n",
    "d_values = [0, 1]\n",
    "q_values = [0, 1, 2]\n",
    "\n",
    "# grid search arima hyperparameters\n",
    "best_cfg_arima, best_score_arima = grid_search_arima(X, train_size_prop, p_values, d_values, q_values)"
   ]
  },
  {
   "cell_type": "code",
   "execution_count": 29,
   "metadata": {},
   "outputs": [
    {
     "name": "stdout",
     "output_type": "stream",
     "text": [
      "Test MSE: 11.636\n",
      "Test MAPE: 1.142\n"
     ]
    }
   ],
   "source": [
    "# RECOMPUTE THE PREDICTIONS\n",
    "pred_arima, mse_arima, mape_arima = arima_model(X, train_size_prop, best_cfg_arima)\n",
    "\n",
    "print('Test MSE: %.3f' % mse_arima)\n",
    "print('Test MAPE: %.3f' % mape_arima)"
   ]
  },
  {
   "cell_type": "code",
   "execution_count": 119,
   "metadata": {},
   "outputs": [
    {
     "data": {
      "image/png": "[encoded data removed]",
      "text/plain": [
       "<Figure size 576x288 with 1 Axes>"
      ]
     },
     "metadata": {},
     "output_type": "display_data"
    }
   ],
   "source": [
    "X = merged_dataframe['Adj Close'].values\n",
    "train, test = train_test_split(X,train_size_prop)\n",
    "\n",
    "%matplotlib inline\n",
    "sns.set_style(\"darkgrid\")\n",
    "\n",
    "days = mdates.DayLocator()\n",
    "days_format = mdates.DateFormatter('%d')\n",
    "months = mdates.MonthLocator()\n",
    "months_format = mdates.DateFormatter('%m')  \n",
    "\n",
    "fig, ax = plt.subplots(figsize=(8, 4))\n",
    "\n",
    "ax.plot('Date', 'Adj Close', data=merged_dataframe, linestyle='-', marker='o', color='grey')\n",
    "ax.plot(merged_dataframe['Date'], [None for x in train] + [x for x in pred_arima], linestyle='-', marker='v')\n",
    "ax.legend(['Actual','Prediction'])\n",
    "\n",
    "ax.xaxis.set_major_locator(days)\n",
    "ax.xaxis.set_major_formatter(days_format)\n",
    "\n",
    "\n",
    "datemin = merged_dataframe['Date'].iloc[0]\n",
    "datemax = merged_dataframe['Date'].iloc[-1]\n",
    "ax.set_xlim(datemin+dt.timedelta(days=-1), datemax+dt.timedelta(days=1))\n",
    "\n",
    "\n",
    "\n",
    "ax.format_xdata = mdates.DateFormatter('%d-%m')\n",
    "\n",
    "fig.autofmt_xdate()\n",
    "fig.suptitle(\"ARIMA Model - TSLA June 2019\", fontweight='bold')\n",
    "ax.set_xlabel('Day', fontweight='bold')\n",
    "ax.set_ylabel('Adjusted Close $', fontweight='bold')\n",
    "\n",
    "\n",
    "\n",
    "plt.savefig('TSLAarima.png')\n",
    "plt.show()\n"
   ]
  },
  {
   "cell_type": "markdown",
   "metadata": {},
   "source": [
    "# SARIMA Model (Adj Close)"
   ]
  },
  {
   "cell_type": "code",
   "execution_count": 32,
   "metadata": {
    "scrolled": true
   },
   "outputs": [
    {
     "name": "stdout",
     "output_type": "stream",
     "text": [
      "Best MODEL[[(1, 0, 1), (0, 0, 1, 0), 'c']] MSE=5.229\n"
     ]
    }
   ],
   "source": [
    "X = merged_dataframe['Adj Close'].values\n",
    "exog_input = []\n",
    "\n",
    "# model configs\n",
    "p_params = [0, 1, 2]\n",
    "d_params = [0, 1]\n",
    "q_params = [0, 1, 2]\n",
    "t_params = ['n','c','t','ct']\n",
    "P_params = [0, 1, 2]\n",
    "D_params = [0, 1]\n",
    "Q_params = [0, 1, 2]\n",
    "m_params = [0,5] # no seasonality, every week\n",
    "\n",
    "# grid search sarima hyperparameters\n",
    "best_cfg_sarima, best_score_sarima = grid_search_sarima(X, exog_input, train_size_prop, p_params, d_params, q_params, t_params, P_params, D_params, Q_params, m_params)\n"
   ]
  },
  {
   "cell_type": "code",
   "execution_count": 34,
   "metadata": {},
   "outputs": [
    {
     "name": "stdout",
     "output_type": "stream",
     "text": [
      "Test MSE: 5.229\n",
      "Test MAPE: 0.987\n"
     ]
    }
   ],
   "source": [
    "# RECOMPUTE THE PREDICTIONS\n",
    "\n",
    "exog_input = []\n",
    "\n",
    "pred_sarima, mse_sarima, mape_sarima = sarima_model(X, exog_input, train_size_prop, best_cfg_sarima)\n",
    "\n",
    "print('Test MSE: %.3f' % mse_sarima)\n",
    "print('Test MAPE: %.3f' % mape_sarima)"
   ]
  },
  {
   "cell_type": "code",
   "execution_count": 118,
   "metadata": {},
   "outputs": [
    {
     "data": {
      "image/png": "[encoded data removed]",
      "text/plain": [
       "<Figure size 576x288 with 1 Axes>"
      ]
     },
     "metadata": {},
     "output_type": "display_data"
    }
   ],
   "source": [
    "X = merged_dataframe['Adj Close'].values\n",
    "train, test = train_test_split(X,train_size_prop)\n",
    "\n",
    "%matplotlib inline\n",
    "sns.set_style(\"darkgrid\")\n",
    "\n",
    "days = mdates.DayLocator()\n",
    "days_format = mdates.DateFormatter('%d')\n",
    "months = mdates.MonthLocator()\n",
    "months_format = mdates.DateFormatter('%m')  \n",
    "\n",
    "fig, ax = plt.subplots(figsize=(8, 4))\n",
    "\n",
    "ax.plot('Date', 'Adj Close', data=merged_dataframe, linestyle='-', marker='o', color='grey')\n",
    "ax.plot(merged_dataframe['Date'], [None for x in train] + [x for x in pred_sarima], linestyle='-', marker='v')\n",
    "ax.legend(['Actual','Prediction'])\n",
    "\n",
    "ax.xaxis.set_major_locator(days)\n",
    "ax.xaxis.set_major_formatter(days_format)\n",
    "\n",
    "\n",
    "datemin = merged_dataframe['Date'].iloc[0]\n",
    "datemax = merged_dataframe['Date'].iloc[-1]\n",
    "ax.set_xlim(datemin+dt.timedelta(days=-1), datemax+dt.timedelta(days=1))\n",
    "\n",
    "\n",
    "ax.format_xdata = mdates.DateFormatter('%d-%m')\n",
    "\n",
    "fig.autofmt_xdate()\n",
    "fig.suptitle(\"SARIMA Model - TSLA June 2019\", fontweight='bold')\n",
    "ax.set_xlabel('Day', fontweight='bold')\n",
    "ax.set_ylabel('Adjusted Close $', fontweight='bold')\n",
    "\n",
    "\n",
    "plt.savefig('TSLAsarima.png')\n",
    "plt.show()\n"
   ]
  },
  {
   "cell_type": "markdown",
   "metadata": {},
   "source": [
    "# SARIMAX"
   ]
  },
  {
   "cell_type": "code",
   "execution_count": 126,
   "metadata": {},
   "outputs": [
    {
     "name": "stdout",
     "output_type": "stream",
     "text": [
      "Correlation with Polarty:  -0.05004057935834592\n",
      "Correlation with WeightedSent:  -0.17495663684951687\n"
     ]
    }
   ],
   "source": [
    "from scipy.stats import pearsonr\n",
    "\n",
    "corr, _ = pearsonr(merged_dataframe['Adj Close'].values, merged_dataframe['Polarity'].values)\n",
    "print(\"Correlation with Polarty: \", corr)\n",
    "corr, _ = pearsonr(merged_dataframe['Adj Close'].values, merged_dataframe['WeightedSent'].values)\n",
    "print(\"Correlation with WeightedSent: \", corr)"
   ]
  }
 ],
 "metadata": {
  "kernelspec": {
   "display_name": "Python 3",
   "language": "python",
   "name": "python3"
  },
  "language_info": {
   "codemirror_mode": {
    "name": "ipython",
    "version": 3
   },
   "file_extension": ".py",
   "mimetype": "text/x-python",
   "name": "python",
   "nbconvert_exporter": "python",
   "pygments_lexer": "ipython3",
   "version": "3.7.4"
  }
 },
 "nbformat": 4,
 "nbformat_minor": 2
}
