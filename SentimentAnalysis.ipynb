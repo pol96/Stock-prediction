{
 "cells": [
  {
   "cell_type": "markdown",
   "metadata": {},
   "source": [
    "### Sentiment Analysis"
   ]
  },
  {
   "cell_type": "markdown",
   "metadata": {},
   "source": [
    "Importing libraries"
   ]
  },
  {
   "cell_type": "code",
   "execution_count": 2,
   "metadata": {},
   "outputs": [],
   "source": [
    "import pandas as pd\n",
    "import numpy as np\n",
    "import re\n",
    "from operator import or_\n",
    "from functools import reduce\n",
    "from textblob import TextBlob\n",
    "import datetime as dt\n",
    "# Visualization\n",
    "import seaborn as sns\n",
    "import matplotlib.pyplot as plt"
   ]
  },
  {
   "cell_type": "markdown",
   "metadata": {},
   "source": [
    "For the sentiment analysis we're going to use a slightly better performing approach than bag-of-words, provided by the library [Text Blob](https://textblob.readthedocs.io/en/dev/).\n",
    "Possible improvements include the use of [Stanford CoreNLP](https://stanfordnlp.github.io/CoreNLP/), based on a deep learning model, or [SentiStrength](http://sentistrength.wlv.ac.uk/), tailored specifically for short and informal texts."
   ]
  },
  {
   "cell_type": "code",
   "execution_count": 4,
   "metadata": {},
   "outputs": [],
   "source": [
    "df = pd.read_csv(\"/Volumes/New Volume/QueryResults/queryen.csv\")"
   ]
  },
  {
   "cell_type": "code",
   "execution_count": 8,
   "metadata": {},
   "outputs": [
    {
     "data": {
      "text/html": [
       "<div>\n",
       "<style scoped>\n",
       "    .dataframe tbody tr th:only-of-type {\n",
       "        vertical-align: middle;\n",
       "    }\n",
       "\n",
       "    .dataframe tbody tr th {\n",
       "        vertical-align: top;\n",
       "    }\n",
       "\n",
       "    .dataframe thead th {\n",
       "        text-align: right;\n",
       "    }\n",
       "</style>\n",
       "<table border=\"1\" class=\"dataframe\">\n",
       "  <thead>\n",
       "    <tr style=\"text-align: right;\">\n",
       "      <th></th>\n",
       "      <th>_id</th>\n",
       "      <th>user.screen_name</th>\n",
       "      <th>created_at</th>\n",
       "      <th>timestamp_ms</th>\n",
       "      <th>text</th>\n",
       "    </tr>\n",
       "  </thead>\n",
       "  <tbody>\n",
       "    <tr>\n",
       "      <td>0</td>\n",
       "      <td>ObjectId(5e41133f808db91a0bd4a5b5)</td>\n",
       "      <td>charliemasina_</td>\n",
       "      <td>Sun Jun 02 06:37:00 +0000 2019</td>\n",
       "      <td>1559457420658</td>\n",
       "      <td>RT @ShowYourFoood: Deshelled Crabs https://t.c...</td>\n",
       "    </tr>\n",
       "    <tr>\n",
       "      <td>1</td>\n",
       "      <td>ObjectId(5e41133f808db91a0bd4a5b6)</td>\n",
       "      <td>abegaildelrosa7</td>\n",
       "      <td>Sun Jun 02 06:37:00 +0000 2019</td>\n",
       "      <td>1559457420662</td>\n",
       "      <td>RT @annesessary: Texts i get from my boyfriend...</td>\n",
       "    </tr>\n",
       "    <tr>\n",
       "      <td>2</td>\n",
       "      <td>ObjectId(5e41133f808db91a0bd4a5b7)</td>\n",
       "      <td>AsheleyRockz</td>\n",
       "      <td>Sun Jun 02 06:37:00 +0000 2019</td>\n",
       "      <td>1559457420666</td>\n",
       "      <td>RT @doyou_bangtan: easy 🍋 peasy 😭 lemon 🍋 sque...</td>\n",
       "    </tr>\n",
       "    <tr>\n",
       "      <td>3</td>\n",
       "      <td>ObjectId(5e41133f808db91a0bd4a5b8)</td>\n",
       "      <td>haruists</td>\n",
       "      <td>Sun Jun 02 06:37:00 +0000 2019</td>\n",
       "      <td>1559457420663</td>\n",
       "      <td>my picks better pull a woojin and sungwoon and...</td>\n",
       "    </tr>\n",
       "    <tr>\n",
       "      <td>4</td>\n",
       "      <td>ObjectId(5e41133f808db91a0bd4a5b9)</td>\n",
       "      <td>bella_tutaonana</td>\n",
       "      <td>Sun Jun 02 06:37:00 +0000 2019</td>\n",
       "      <td>1559457420657</td>\n",
       "      <td>RT @gloomytoby: your like novocaine</td>\n",
       "    </tr>\n",
       "  </tbody>\n",
       "</table>\n",
       "</div>"
      ],
      "text/plain": [
       "                                  _id user.screen_name  \\\n",
       "0  ObjectId(5e41133f808db91a0bd4a5b5)   charliemasina_   \n",
       "1  ObjectId(5e41133f808db91a0bd4a5b6)  abegaildelrosa7   \n",
       "2  ObjectId(5e41133f808db91a0bd4a5b7)     AsheleyRockz   \n",
       "3  ObjectId(5e41133f808db91a0bd4a5b8)         haruists   \n",
       "4  ObjectId(5e41133f808db91a0bd4a5b9)  bella_tutaonana   \n",
       "\n",
       "                       created_at   timestamp_ms  \\\n",
       "0  Sun Jun 02 06:37:00 +0000 2019  1559457420658   \n",
       "1  Sun Jun 02 06:37:00 +0000 2019  1559457420662   \n",
       "2  Sun Jun 02 06:37:00 +0000 2019  1559457420666   \n",
       "3  Sun Jun 02 06:37:00 +0000 2019  1559457420663   \n",
       "4  Sun Jun 02 06:37:00 +0000 2019  1559457420657   \n",
       "\n",
       "                                                text  \n",
       "0  RT @ShowYourFoood: Deshelled Crabs https://t.c...  \n",
       "1  RT @annesessary: Texts i get from my boyfriend...  \n",
       "2  RT @doyou_bangtan: easy 🍋 peasy 😭 lemon 🍋 sque...  \n",
       "3  my picks better pull a woojin and sungwoon and...  \n",
       "4                RT @gloomytoby: your like novocaine  "
      ]
     },
     "execution_count": 8,
     "metadata": {},
     "output_type": "execute_result"
    }
   ],
   "source": [
    "df.head()"
   ]
  },
  {
   "cell_type": "code",
   "execution_count": 10,
   "metadata": {},
   "outputs": [
    {
     "data": {
      "text/plain": [
       "28322399"
      ]
     },
     "execution_count": 10,
     "metadata": {},
     "output_type": "execute_result"
    }
   ],
   "source": [
    "len(df)"
   ]
  },
  {
   "cell_type": "code",
   "execution_count": 21,
   "metadata": {},
   "outputs": [],
   "source": [
    "# Terms that are included in the filtered tweets\n",
    "\n",
    "valid_terms = [\"tsla\", \"tesla\", \"$tsla\"]\n",
    "\n",
    "# Cleaning tweets, considering only words\n",
    "\n",
    "def clean_tweet(tweet):\n",
    "    return ' '.join(re.sub('(@[A-Za-z0-9]+)|([^0-9A-Za-z \\t])|(\\w+:\\/\\/\\S+)', ' ', tweet).split())\n",
    "\n",
    "def make_pattern(term):\n",
    "    return r'(?:^|\\W)' + str(term) + '(?:$|\\W)'\n",
    "\n",
    "# Filtering based on keywords\n",
    "\n",
    "def is_valid_tweet(tweets, terms):\n",
    "    patterns = [make_pattern(term) for term in valid_terms]\n",
    "    return reduce(or_, [tweets.str.contains(pattern, regex=True, flags=re.I) for pattern in patterns])\n",
    "\n",
    "# Sentiment analysis functions\n",
    "\n",
    "def print_polarity(tweet):\n",
    "    analysis = TextBlob(tweet)\n",
    "    return analysis.sentiment.polarity\n",
    "\n",
    "def print_subjectivity(tweet):\n",
    "    analysis = TextBlob(tweet)\n",
    "    return analysis.sentiment.subjectivity"
   ]
  },
  {
   "cell_type": "code",
   "execution_count": null,
   "metadata": {},
   "outputs": [],
   "source": [
    "filtered = df.loc[is_valid_tweet(df['text'], valid_terms)]"
   ]
  },
  {
   "cell_type": "code",
   "execution_count": 19,
   "metadata": {},
   "outputs": [
    {
     "data": {
      "text/html": [
       "<div>\n",
       "<style scoped>\n",
       "    .dataframe tbody tr th:only-of-type {\n",
       "        vertical-align: middle;\n",
       "    }\n",
       "\n",
       "    .dataframe tbody tr th {\n",
       "        vertical-align: top;\n",
       "    }\n",
       "\n",
       "    .dataframe thead th {\n",
       "        text-align: right;\n",
       "    }\n",
       "</style>\n",
       "<table border=\"1\" class=\"dataframe\">\n",
       "  <thead>\n",
       "    <tr style=\"text-align: right;\">\n",
       "      <th></th>\n",
       "      <th>Unnamed: 0</th>\n",
       "      <th>_id</th>\n",
       "      <th>user.screen_name</th>\n",
       "      <th>created_at</th>\n",
       "      <th>timestamp_ms</th>\n",
       "      <th>text</th>\n",
       "    </tr>\n",
       "  </thead>\n",
       "  <tbody>\n",
       "    <tr>\n",
       "      <td>0</td>\n",
       "      <td>10834</td>\n",
       "      <td>ObjectId(5e411350808db91a0bd5c75a)</td>\n",
       "      <td>TheDirtyBoogie1</td>\n",
       "      <td>Sun Jun 02 06:56:24 +0000 2019</td>\n",
       "      <td>2019-06-02 06:56:24.666</td>\n",
       "      <td>@teslataxisea @Tesla Completely wrong.</td>\n",
       "    </tr>\n",
       "    <tr>\n",
       "      <td>1</td>\n",
       "      <td>14825</td>\n",
       "      <td>ObjectId(5e411356808db91a0bd60f17)</td>\n",
       "      <td>jwoods_57</td>\n",
       "      <td>Sun Jun 02 06:33:55 +0000 2019</td>\n",
       "      <td>2019-06-02 06:33:55.661</td>\n",
       "      <td>@TeslaOpinion #Tesla is the *only* major compa...</td>\n",
       "    </tr>\n",
       "    <tr>\n",
       "      <td>2</td>\n",
       "      <td>27402</td>\n",
       "      <td>ObjectId(5e41136b808db91a0bd6e82c)</td>\n",
       "      <td>MarikoSanoUSA</td>\n",
       "      <td>Sun Jun 02 07:19:59 +0000 2019</td>\n",
       "      <td>2019-06-02 07:19:59.658</td>\n",
       "      <td>RT @evannex_com: Puzzling. The press is pushin...</td>\n",
       "    </tr>\n",
       "    <tr>\n",
       "      <td>3</td>\n",
       "      <td>34273</td>\n",
       "      <td>ObjectId(5e411377808db91a0bd75eb9)</td>\n",
       "      <td>paradis_yves</td>\n",
       "      <td>Sun Jun 02 07:33:09 +0000 2019</td>\n",
       "      <td>2019-06-02 07:33:09.659</td>\n",
       "      <td>RT @cleantechnica: Some Environmentalists Are ...</td>\n",
       "    </tr>\n",
       "    <tr>\n",
       "      <td>4</td>\n",
       "      <td>38174</td>\n",
       "      <td>ObjectId(5e41137d808db91a0bd7a1bd)</td>\n",
       "      <td>aschbeck</td>\n",
       "      <td>Sun Jun 02 07:40:53 +0000 2019</td>\n",
       "      <td>2019-06-02 07:40:53.665</td>\n",
       "      <td>RT @vivvchy: Tesla Gigafactory 3 China starts ...</td>\n",
       "    </tr>\n",
       "  </tbody>\n",
       "</table>\n",
       "</div>"
      ],
      "text/plain": [
       "   Unnamed: 0                                 _id user.screen_name  \\\n",
       "0       10834  ObjectId(5e411350808db91a0bd5c75a)  TheDirtyBoogie1   \n",
       "1       14825  ObjectId(5e411356808db91a0bd60f17)        jwoods_57   \n",
       "2       27402  ObjectId(5e41136b808db91a0bd6e82c)    MarikoSanoUSA   \n",
       "3       34273  ObjectId(5e411377808db91a0bd75eb9)     paradis_yves   \n",
       "4       38174  ObjectId(5e41137d808db91a0bd7a1bd)         aschbeck   \n",
       "\n",
       "                       created_at            timestamp_ms  \\\n",
       "0  Sun Jun 02 06:56:24 +0000 2019 2019-06-02 06:56:24.666   \n",
       "1  Sun Jun 02 06:33:55 +0000 2019 2019-06-02 06:33:55.661   \n",
       "2  Sun Jun 02 07:19:59 +0000 2019 2019-06-02 07:19:59.658   \n",
       "3  Sun Jun 02 07:33:09 +0000 2019 2019-06-02 07:33:09.659   \n",
       "4  Sun Jun 02 07:40:53 +0000 2019 2019-06-02 07:40:53.665   \n",
       "\n",
       "                                                text  \n",
       "0             @teslataxisea @Tesla Completely wrong.  \n",
       "1  @TeslaOpinion #Tesla is the *only* major compa...  \n",
       "2  RT @evannex_com: Puzzling. The press is pushin...  \n",
       "3  RT @cleantechnica: Some Environmentalists Are ...  \n",
       "4  RT @vivvchy: Tesla Gigafactory 3 China starts ...  "
      ]
     },
     "execution_count": 19,
     "metadata": {},
     "output_type": "execute_result"
    }
   ],
   "source": [
    "filtered.head()"
   ]
  },
  {
   "cell_type": "code",
   "execution_count": 22,
   "metadata": {},
   "outputs": [],
   "source": [
    "pd.options.mode.chained_assignment = None\n",
    "filtered['Polarity'] = filtered['text'].apply(print_polarity)\n",
    "filtered['Subjectivity'] = filtered['text'].apply(print_subjectivity)"
   ]
  },
  {
   "cell_type": "code",
   "execution_count": 23,
   "metadata": {},
   "outputs": [],
   "source": [
    "positive_tweets = filtered.loc[(filtered['Polarity'] > 0).fillna(False), 'Polarity']\n",
    "neutral_tweets = filtered.loc[(filtered['Polarity'] == 0).fillna(False), 'Polarity']\n",
    "negative_tweets = filtered.loc[(filtered['Polarity'] < 0).fillna(False), 'Polarity']"
   ]
  },
  {
   "cell_type": "code",
   "execution_count": 24,
   "metadata": {},
   "outputs": [
    {
     "name": "stdout",
     "output_type": "stream",
     "text": [
      "Positive percentage: 41.3152610441767\n",
      "Neutral percentage: 41.34872824631861\n",
      "Negative percentage: 17.336010709504684\n",
      "Number of tweets analysed: 5976\n"
     ]
    }
   ],
   "source": [
    "polarity_sign = np.sign(filtered['Polarity'])\n",
    "sign_counts = polarity_sign.value_counts()\n",
    "sign_fracs = sign_counts / filtered.shape[0]\n",
    "\n",
    "print(f'Positive percentage: {sign_fracs.loc[1] * 100}')\n",
    "print(f'Neutral percentage: {sign_fracs.loc[0] * 100}')\n",
    "print(f'Negative percentage: {sign_fracs.loc[-1] * 100}')\n",
    "print(\"Number of tweets analysed:\", len(filtered[\"text\"]))"
   ]
  },
  {
   "cell_type": "code",
   "execution_count": null,
   "metadata": {},
   "outputs": [],
   "source": [
    "filtered.dtypes"
   ]
  },
  {
   "cell_type": "code",
   "execution_count": 26,
   "metadata": {},
   "outputs": [],
   "source": [
    "filtered['timestamp_ms'] = pd.to_datetime(filtered['timestamp_ms'], unit='ms')"
   ]
  },
  {
   "cell_type": "code",
   "execution_count": 27,
   "metadata": {},
   "outputs": [
    {
     "data": {
      "text/plain": [
       "0   2019-06-02 06:56:24.666\n",
       "1   2019-06-02 06:33:55.661\n",
       "2   2019-06-02 07:19:59.658\n",
       "3   2019-06-02 07:33:09.659\n",
       "4   2019-06-02 07:40:53.665\n",
       "Name: timestamp_ms, dtype: datetime64[ns]"
      ]
     },
     "execution_count": 27,
     "metadata": {},
     "output_type": "execute_result"
    }
   ],
   "source": [
    "filtered['timestamp_ms'].head()"
   ]
  },
  {
   "cell_type": "code",
   "execution_count": 28,
   "metadata": {},
   "outputs": [],
   "source": [
    "volume = filtered.groupby(by=filtered['timestamp_ms'].dt.date).count()"
   ]
  },
  {
   "cell_type": "code",
   "execution_count": 29,
   "metadata": {},
   "outputs": [
    {
     "data": {
      "text/html": [
       "<div>\n",
       "<style scoped>\n",
       "    .dataframe tbody tr th:only-of-type {\n",
       "        vertical-align: middle;\n",
       "    }\n",
       "\n",
       "    .dataframe tbody tr th {\n",
       "        vertical-align: top;\n",
       "    }\n",
       "\n",
       "    .dataframe thead th {\n",
       "        text-align: right;\n",
       "    }\n",
       "</style>\n",
       "<table border=\"1\" class=\"dataframe\">\n",
       "  <thead>\n",
       "    <tr style=\"text-align: right;\">\n",
       "      <th></th>\n",
       "      <th>Unnamed: 0</th>\n",
       "      <th>_id</th>\n",
       "      <th>user.screen_name</th>\n",
       "      <th>created_at</th>\n",
       "      <th>timestamp_ms</th>\n",
       "      <th>text</th>\n",
       "      <th>Polarity</th>\n",
       "      <th>Subjectivity</th>\n",
       "    </tr>\n",
       "    <tr>\n",
       "      <th>timestamp_ms</th>\n",
       "      <th></th>\n",
       "      <th></th>\n",
       "      <th></th>\n",
       "      <th></th>\n",
       "      <th></th>\n",
       "      <th></th>\n",
       "      <th></th>\n",
       "      <th></th>\n",
       "    </tr>\n",
       "  </thead>\n",
       "  <tbody>\n",
       "    <tr>\n",
       "      <td>2019-06-02</td>\n",
       "      <td>167</td>\n",
       "      <td>167</td>\n",
       "      <td>167</td>\n",
       "      <td>167</td>\n",
       "      <td>167</td>\n",
       "      <td>167</td>\n",
       "      <td>167</td>\n",
       "      <td>167</td>\n",
       "    </tr>\n",
       "    <tr>\n",
       "      <td>2019-06-03</td>\n",
       "      <td>245</td>\n",
       "      <td>245</td>\n",
       "      <td>245</td>\n",
       "      <td>245</td>\n",
       "      <td>245</td>\n",
       "      <td>245</td>\n",
       "      <td>245</td>\n",
       "      <td>245</td>\n",
       "    </tr>\n",
       "    <tr>\n",
       "      <td>2019-06-04</td>\n",
       "      <td>276</td>\n",
       "      <td>276</td>\n",
       "      <td>276</td>\n",
       "      <td>276</td>\n",
       "      <td>276</td>\n",
       "      <td>276</td>\n",
       "      <td>276</td>\n",
       "      <td>276</td>\n",
       "    </tr>\n",
       "    <tr>\n",
       "      <td>2019-06-05</td>\n",
       "      <td>170</td>\n",
       "      <td>170</td>\n",
       "      <td>170</td>\n",
       "      <td>170</td>\n",
       "      <td>170</td>\n",
       "      <td>170</td>\n",
       "      <td>170</td>\n",
       "      <td>170</td>\n",
       "    </tr>\n",
       "    <tr>\n",
       "      <td>2019-06-06</td>\n",
       "      <td>212</td>\n",
       "      <td>212</td>\n",
       "      <td>212</td>\n",
       "      <td>212</td>\n",
       "      <td>212</td>\n",
       "      <td>212</td>\n",
       "      <td>212</td>\n",
       "      <td>212</td>\n",
       "    </tr>\n",
       "  </tbody>\n",
       "</table>\n",
       "</div>"
      ],
      "text/plain": [
       "              Unnamed: 0  _id  user.screen_name  created_at  timestamp_ms  \\\n",
       "timestamp_ms                                                                \n",
       "2019-06-02           167  167               167         167           167   \n",
       "2019-06-03           245  245               245         245           245   \n",
       "2019-06-04           276  276               276         276           276   \n",
       "2019-06-05           170  170               170         170           170   \n",
       "2019-06-06           212  212               212         212           212   \n",
       "\n",
       "              text  Polarity  Subjectivity  \n",
       "timestamp_ms                                \n",
       "2019-06-02     167       167           167  \n",
       "2019-06-03     245       245           245  \n",
       "2019-06-04     276       276           276  \n",
       "2019-06-05     170       170           170  \n",
       "2019-06-06     212       212           212  "
      ]
     },
     "execution_count": 29,
     "metadata": {},
     "output_type": "execute_result"
    }
   ],
   "source": [
    "volume.head()"
   ]
  },
  {
   "cell_type": "code",
   "execution_count": 30,
   "metadata": {},
   "outputs": [],
   "source": [
    "avgsent = filtered.groupby(by=filtered['timestamp_ms'].dt.date).mean()"
   ]
  },
  {
   "cell_type": "code",
   "execution_count": 31,
   "metadata": {},
   "outputs": [],
   "source": [
    "avgsent['Volume'] = volume['Polarity']"
   ]
  },
  {
   "cell_type": "code",
   "execution_count": 32,
   "metadata": {},
   "outputs": [],
   "source": [
    "avgsent['WeightedSent'] = avgsent.Polarity * avgsent.Volume"
   ]
  },
  {
   "cell_type": "code",
   "execution_count": 38,
   "metadata": {},
   "outputs": [],
   "source": [
    "avgsent.reset_index(level=0, inplace=True)"
   ]
  },
  {
   "cell_type": "code",
   "execution_count": 39,
   "metadata": {},
   "outputs": [
    {
     "data": {
      "text/html": [
       "<div>\n",
       "<style scoped>\n",
       "    .dataframe tbody tr th:only-of-type {\n",
       "        vertical-align: middle;\n",
       "    }\n",
       "\n",
       "    .dataframe tbody tr th {\n",
       "        vertical-align: top;\n",
       "    }\n",
       "\n",
       "    .dataframe thead th {\n",
       "        text-align: right;\n",
       "    }\n",
       "</style>\n",
       "<table border=\"1\" class=\"dataframe\">\n",
       "  <thead>\n",
       "    <tr style=\"text-align: right;\">\n",
       "      <th></th>\n",
       "      <th>timestamp_ms</th>\n",
       "      <th>Polarity</th>\n",
       "      <th>Subjectivity</th>\n",
       "      <th>Volume</th>\n",
       "      <th>WeightedSent</th>\n",
       "    </tr>\n",
       "  </thead>\n",
       "  <tbody>\n",
       "    <tr>\n",
       "      <td>0</td>\n",
       "      <td>2019-06-02</td>\n",
       "      <td>0.063244</td>\n",
       "      <td>0.381578</td>\n",
       "      <td>167</td>\n",
       "      <td>10.561734</td>\n",
       "    </tr>\n",
       "    <tr>\n",
       "      <td>1</td>\n",
       "      <td>2019-06-03</td>\n",
       "      <td>0.089211</td>\n",
       "      <td>0.297710</td>\n",
       "      <td>245</td>\n",
       "      <td>21.856700</td>\n",
       "    </tr>\n",
       "    <tr>\n",
       "      <td>2</td>\n",
       "      <td>2019-06-04</td>\n",
       "      <td>0.130054</td>\n",
       "      <td>0.347898</td>\n",
       "      <td>276</td>\n",
       "      <td>35.894884</td>\n",
       "    </tr>\n",
       "    <tr>\n",
       "      <td>3</td>\n",
       "      <td>2019-06-05</td>\n",
       "      <td>0.091941</td>\n",
       "      <td>0.326808</td>\n",
       "      <td>170</td>\n",
       "      <td>15.629985</td>\n",
       "    </tr>\n",
       "    <tr>\n",
       "      <td>4</td>\n",
       "      <td>2019-06-06</td>\n",
       "      <td>0.103616</td>\n",
       "      <td>0.327644</td>\n",
       "      <td>212</td>\n",
       "      <td>21.966604</td>\n",
       "    </tr>\n",
       "  </tbody>\n",
       "</table>\n",
       "</div>"
      ],
      "text/plain": [
       "  timestamp_ms  Polarity  Subjectivity  Volume  WeightedSent\n",
       "0   2019-06-02  0.063244      0.381578     167     10.561734\n",
       "1   2019-06-03  0.089211      0.297710     245     21.856700\n",
       "2   2019-06-04  0.130054      0.347898     276     35.894884\n",
       "3   2019-06-05  0.091941      0.326808     170     15.629985\n",
       "4   2019-06-06  0.103616      0.327644     212     21.966604"
      ]
     },
     "execution_count": 39,
     "metadata": {},
     "output_type": "execute_result"
    }
   ],
   "source": [
    "avgsent.head()"
   ]
  },
  {
   "cell_type": "markdown",
   "metadata": {},
   "source": [
    "#### Visualizations"
   ]
  },
  {
   "cell_type": "code",
   "execution_count": 146,
   "metadata": {},
   "outputs": [
    {
     "data": {
      "image/png": "[encoded data removed]",
      "text/plain": [
       "<Figure size 576x288 with 1 Axes>"
      ]
     },
     "metadata": {},
     "output_type": "display_data"
    }
   ],
   "source": [
    "# Volume per day\n",
    "\n",
    "import matplotlib.dates as mdates\n",
    "\n",
    "sns.set_style(\"darkgrid\")\n",
    "\n",
    "days = mdates.DayLocator()\n",
    "days_format = mdates.DateFormatter('%d')  \n",
    "\n",
    "fig, ax = plt.subplots(figsize=(8, 4))\n",
    "\n",
    "ax.plot('timestamp_ms', 'Volume', data=avgsent, linestyle='-', marker='o')\n",
    "\n",
    "ax.xaxis.set_major_locator(days)\n",
    "ax.xaxis.set_major_formatter(days_format)\n",
    "\n",
    "\n",
    "datemin = avgsent['timestamp_ms'].iloc[0]\n",
    "datemax = avgsent['timestamp_ms'].iloc[-1]\n",
    "ax.set_xlim(datemin+dt.timedelta(days=-1), datemax+dt.timedelta(days=1))\n",
    "ax.set_ylim(0)\n",
    "\n",
    "\n",
    "ax.format_xdata = mdates.DateFormatter('%d')\n",
    "\n",
    "fig.autofmt_xdate()\n",
    "fig.suptitle(\"Volume of Tesla tweets for the month of June 2019\", fontweight='bold')\n",
    "ax.set_xlabel('Day', fontweight='bold')\n",
    "ax.set_ylabel('Number of tweets', fontweight='bold')\n",
    "\n",
    "plt.savefig('Volume.png')\n",
    "plt.show()"
   ]
  },
  {
   "cell_type": "code",
   "execution_count": 147,
   "metadata": {},
   "outputs": [
    {
     "data": {
      "image/png": "[encoded data removed]",
      "text/plain": [
       "<Figure size 576x288 with 1 Axes>"
      ]
     },
     "metadata": {},
     "output_type": "display_data"
    }
   ],
   "source": [
    "%matplotlib inline\n",
    "sns.set_style(\"darkgrid\")\n",
    "\n",
    "days = mdates.DayLocator()\n",
    "days_format = mdates.DateFormatter('%d')  \n",
    "\n",
    "fig, ax = plt.subplots(figsize=(8, 4))\n",
    "\n",
    "ax.plot('timestamp_ms', 'Polarity', data=avgsent, linestyle='-', marker='o',color='#9e0000')\n",
    "\n",
    "ax.xaxis.set_major_locator(days)\n",
    "ax.xaxis.set_major_formatter(days_format)\n",
    "\n",
    "\n",
    "datemin = avgsent['timestamp_ms'].iloc[0]\n",
    "datemax = avgsent['timestamp_ms'].iloc[-1]\n",
    "ax.set_xlim(datemin+dt.timedelta(days=-1), datemax+dt.timedelta(days=1))\n",
    "ax.set_ylim(-0.1,0.2)\n",
    "\n",
    "\n",
    "ax.format_xdata = mdates.DateFormatter('%d')\n",
    "\n",
    "fig.autofmt_xdate()\n",
    "fig.suptitle(\"Sentiment of Tesla tweets for the month of June 2019\", fontweight='bold')\n",
    "ax.set_xlabel('Day', fontweight='bold')\n",
    "ax.set_ylabel('Polarity', fontweight='bold')\n",
    "\n",
    "plt.savefig('Sentiment.png')\n",
    "plt.show()"
   ]
  },
  {
   "cell_type": "code",
   "execution_count": 179,
   "metadata": {},
   "outputs": [
    {
     "data": {
      "image/png": "[encoded data removed]",
      "text/plain": [
       "<Figure size 576x288 with 1 Axes>"
      ]
     },
     "metadata": {},
     "output_type": "display_data"
    }
   ],
   "source": [
    "%matplotlib inline\n",
    "sns.set_style(\"darkgrid\")\n",
    "\n",
    "days = mdates.DayLocator()\n",
    "days_format = mdates.DateFormatter('%d')  \n",
    "\n",
    "fig, ax = plt.subplots(figsize=(8, 4))\n",
    "\n",
    "ax.plot('timestamp_ms', 'WeightedSent', data=avgsent, linestyle='-', marker='o',color='#8b00b7')\n",
    "\n",
    "ax.xaxis.set_major_locator(days)\n",
    "ax.xaxis.set_major_formatter(days_format)\n",
    "\n",
    "\n",
    "datemin = avgsent['timestamp_ms'].iloc[0]\n",
    "datemax = avgsent['timestamp_ms'].iloc[-1]\n",
    "ax.set_xlim(datemin+dt.timedelta(days=-1), datemax+dt.timedelta(days=1))\n",
    "ax.set_ylim(0)\n",
    "\n",
    "\n",
    "ax.format_xdata = mdates.DateFormatter('%d')\n",
    "\n",
    "fig.autofmt_xdate()\n",
    "fig.suptitle(\"Weighted (by volume) Sentiment of Tesla tweets for the month of June 2019\", fontweight='bold')\n",
    "ax.set_xlabel('Day', fontweight='bold')\n",
    "ax.set_ylabel('Polarity x Volume', fontweight='bold')\n",
    "\n",
    "\n",
    "arrow_x = avgsent['timestamp_ms'].iloc[2]\n",
    "arrow_y = avgsent['WeightedSent'].iloc[2]\n",
    "label_x = avgsent['timestamp_ms'].iloc[2]\n",
    "label_y = avgsent['WeightedSent'].iloc[2]\n",
    "\n",
    "\n",
    "ax.annotate(\n",
    "    \"   Exceed expectation of sales, news about May 2019 report\",\n",
    "    xy=(arrow_x, arrow_y),\n",
    "    xytext=(label_x, label_y),\n",
    "    arrowprops=dict(facecolor='black', shrink=0.3),\n",
    "            horizontalalignment='left', verticalalignment='top')\n",
    "\n",
    "plt.savefig('WeightedSentiment.png')\n",
    "plt.show()"
   ]
  }
 ],
 "metadata": {
  "kernelspec": {
   "display_name": "Python 3",
   "language": "python",
   "name": "python3"
  },
  "language_info": {
   "codemirror_mode": {
    "name": "ipython",
    "version": 3
   },
   "file_extension": ".py",
   "mimetype": "text/x-python",
   "name": "python",
   "nbconvert_exporter": "python",
   "pygments_lexer": "ipython3",
   "version": "3.7.4"
  }
 },
 "nbformat": 4,
 "nbformat_minor": 4
}
